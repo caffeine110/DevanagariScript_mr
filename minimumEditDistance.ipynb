{
  "nbformat": 4,
  "nbformat_minor": 0,
  "metadata": {
    "colab": {
      "name": "minimumEditDistance.ipynb",
      "provenance": [],
      "collapsed_sections": [],
      "authorship_tag": "ABX9TyMYigqp9agiw+e93XDq4RrY",
      "include_colab_link": true
    },
    "kernelspec": {
      "name": "python3",
      "display_name": "Python 3"
    }
  },
  "cells": [
    {
      "cell_type": "markdown",
      "metadata": {
        "id": "view-in-github",
        "colab_type": "text"
      },
      "source": [
        "<a href=\"https://colab.research.google.com/github/caffeine110/DevanagariScript_mr/blob/master/minimumEditDistance.ipynb\" target=\"_parent\"><img src=\"https://colab.research.google.com/assets/colab-badge.svg\" alt=\"Open In Colab\"/></a>"
      ]
    },
    {
      "cell_type": "code",
      "metadata": {
        "id": "Tk4XbiKBGTKj",
        "colab_type": "code",
        "colab": {}
      },
      "source": [
        "### import dependencies\n",
        "import numpy as np\n",
        "\n",
        "### Function to calculate the Levenshtein Matrix\n",
        "def levenshtein(seq1, seq2):\n",
        "    size_x = len(seq1) + 1\n",
        "    size_y = len(seq2) + 1\n",
        "    matrix = np.zeros ((size_x, size_y))\n",
        "    for x in range(size_x):\n",
        "        matrix [x, 0] = x\n",
        "    for y in range(size_y):\n",
        "        matrix [0, y] = y\n",
        "\n",
        "    for x in range(1, size_x):\n",
        "        for y in range(1, size_y):\n",
        "            if seq1[x-1] == seq2[y-1]:\n",
        "                matrix [x,y] = min(\n",
        "                    matrix[x-1, y] + 1,\n",
        "                    matrix[x-1, y-1],\n",
        "                    matrix[x, y-1] + 1\n",
        "                )\n",
        "            else:\n",
        "                matrix [x,y] = min(\n",
        "                    matrix[x-1,y] + 1,\n",
        "                    matrix[x-1,y-1] + 1,\n",
        "                    matrix[x,y-1] + 1\n",
        "                )\n",
        "    #print (matrix)\n",
        "    return (matrix, matrix[size_x - 1, size_y - 1])\n"
      ],
      "execution_count": 0,
      "outputs": []
    },
    {
      "cell_type": "code",
      "metadata": {
        "id": "a9rdCHFwyBAr",
        "colab_type": "code",
        "colab": {}
      },
      "source": [
        ""
      ],
      "execution_count": 0,
      "outputs": []
    },
    {
      "cell_type": "code",
      "metadata": {
        "id": "fU2bpxJSyBFw",
        "colab_type": "code",
        "colab": {}
      },
      "source": [
        "### Defination to calculate the changes\n",
        "\n",
        "def minEditDistance(matrix, seq1, seq2):\n",
        "  size_x, size_y = matrix.shape\n",
        "  x = size_x-1\n",
        "  y = size_y-1\n",
        "\n",
        "  while x<=size_x and x>0 and y<=size_y and y>0:\n",
        "    print (x,y, matrix[x,y])\n",
        "\n",
        "    min_value = min(matrix[x-1,y], matrix[x-1,y-1], matrix[x,y-1])\n",
        "    if matrix[x-1,y-1] == min_value:\n",
        "      if matrix[x-1, y-1] == matrix[x,y]:\n",
        "        print(\"Seq2.char : {} ,  Seq1.char : {}\".format(seq2[y-1], seq1[x-1]))\n",
        "        print(\"No Change...\")\n",
        "        x = x-1\n",
        "        y = y-1\n",
        "\n",
        "      elif matrix[x-1, y-1] == matrix[x,y] -1 :\n",
        "        print(\"Seq2.char : {} ,  Seq1.char : {}\".format(seq2[y-1], seq1[x-1]))\n",
        "        print(\"Update Char : {} To : {}\".format(seq2[y-1], seq1[x-1]))\n",
        "        x = x-1\n",
        "        y = y-1\n",
        "\n",
        "    elif matrix[x-1, y] == min_value:\n",
        "      if matrix[x-1, y] == matrix[x,y] -1:\n",
        "        print(\"Seq2.char : {} ,  Seq1.char : {}\".format(seq2[y-1], seq1[x-1]))\n",
        "        print('Charactor : {} : should be Inserted'.format(seq1[x-1]))\n",
        "        x = x-1\n",
        "        y = y\n",
        "      \n",
        "    elif matrix[x, y-1] == min_value:\n",
        "      if matrix[x, y-1] == matrix[x,y] -1:\n",
        "        print(\"Seq2.char : {} ,  Seq1.char : {}\".format(seq2[y-1], seq1[x-1]))\n",
        "        print(\"Charactor : {} : should be Deleted...\".format(seq2[y-1]))\n",
        "        x = x\n",
        "        y = y-1\n",
        "\n",
        "    print('')\n",
        "  return(x,y)\n"
      ],
      "execution_count": 0,
      "outputs": []
    },
    {
      "cell_type": "code",
      "metadata": {
        "id": "ddEmeo0zx1Q9",
        "colab_type": "code",
        "colab": {}
      },
      "source": [
        ""
      ],
      "execution_count": 0,
      "outputs": []
    },
    {
      "cell_type": "code",
      "metadata": {
        "id": "EE6WIwmVx178",
        "colab_type": "code",
        "colab": {
          "base_uri": "https://localhost:8080/",
          "height": 561
        },
        "outputId": "f7c62c6a-4a6c-40ec-c068-007818ce822d"
      },
      "source": [
        "#Example 1 :\n",
        "seq1 = 'test'\n",
        "seq2 = 'text'\n",
        "\n",
        "#Example 2 :\n",
        "### Converting seq2 to seq1\n",
        "seq1 = 'azced'\n",
        "seq2 = 'abcdef'\n",
        "\n",
        "\n",
        "matrix, x_1 = levenshtein(seq1, seq2)\n",
        "print(matrix)\n",
        "print(\"No of changes to Make : \", x_1)\n",
        "\n",
        "x, y = matrix.shape\n",
        "print(\"Shape of Matrix : \", x,y)\n",
        "\n",
        "r = minEditDistance(matrix, seq1, seq2)"
      ],
      "execution_count": 3,
      "outputs": [
        {
          "output_type": "stream",
          "text": [
            "[[0. 1. 2. 3. 4. 5. 6.]\n",
            " [1. 0. 1. 2. 3. 4. 5.]\n",
            " [2. 1. 1. 2. 3. 4. 5.]\n",
            " [3. 2. 2. 1. 2. 3. 4.]\n",
            " [4. 3. 3. 2. 2. 2. 3.]\n",
            " [5. 4. 4. 3. 2. 3. 3.]]\n",
            "No of changes to Make :  3.0\n",
            "Shape of Matrix :  6 7\n",
            "5 6 3.0\n",
            "Seq2.char : f ,  Seq1.char : d\n",
            "Update Char : f To : d\n",
            "\n",
            "4 5 2.0\n",
            "Seq2.char : e ,  Seq1.char : e\n",
            "No Change...\n",
            "\n",
            "3 4 2.0\n",
            "Seq2.char : d ,  Seq1.char : c\n",
            "Charactor : d : should be Deleted...\n",
            "\n",
            "3 3 1.0\n",
            "Seq2.char : c ,  Seq1.char : c\n",
            "No Change...\n",
            "\n",
            "2 2 1.0\n",
            "Seq2.char : b ,  Seq1.char : z\n",
            "Update Char : b To : z\n",
            "\n",
            "1 1 0.0\n",
            "Seq2.char : a ,  Seq1.char : a\n",
            "No Change...\n",
            "\n"
          ],
          "name": "stdout"
        }
      ]
    },
    {
      "cell_type": "code",
      "metadata": {
        "id": "1R6NnJq-1VE4",
        "colab_type": "code",
        "colab": {}
      },
      "source": [
        ""
      ],
      "execution_count": 0,
      "outputs": []
    },
    {
      "cell_type": "code",
      "metadata": {
        "id": "f80SkuUHGeqC",
        "colab_type": "code",
        "colab": {}
      },
      "source": [
        ""
      ],
      "execution_count": 0,
      "outputs": []
    },
    {
      "cell_type": "code",
      "metadata": {
        "id": "OztP_C-CGexI",
        "colab_type": "code",
        "colab": {
          "base_uri": "https://localhost:8080/",
          "height": 833
        },
        "outputId": "81cffa4d-2746-4e6f-f9aa-77a5622b89a5"
      },
      "source": [
        "# Example 3 :\n",
        "word = 'इच्छा'\n",
        "word = 'विद्यालय'\n",
        "word = 'अँकरच्या'\n",
        "\n",
        "#Example 2 :\n",
        "### Converting seq2 to seq1\n",
        "\n",
        "seq1 = 'ईश्वरचरणी'\n",
        "seq2 = 'ईशवचणी'\n",
        "\n",
        "\n",
        "matrix, x_1 = levenshtein(seq1, seq2)\n",
        "print(matrix)\n",
        "print(\"No of changes to Make : \", x_1)\n",
        "\n",
        "x, y = matrix.shape\n",
        "print(\"Shape of Matrix : \", x,y)\n",
        "\n",
        "r = minEditDistance(matrix, seq1, seq2)"
      ],
      "execution_count": 4,
      "outputs": [
        {
          "output_type": "stream",
          "text": [
            "[[0. 1. 2. 3. 4. 5. 6.]\n",
            " [1. 0. 1. 2. 3. 4. 5.]\n",
            " [2. 1. 0. 1. 2. 3. 4.]\n",
            " [3. 2. 1. 1. 2. 3. 4.]\n",
            " [4. 3. 2. 1. 2. 3. 4.]\n",
            " [5. 4. 3. 2. 2. 3. 4.]\n",
            " [6. 5. 4. 3. 2. 3. 4.]\n",
            " [7. 6. 5. 4. 3. 3. 4.]\n",
            " [8. 7. 6. 5. 4. 3. 4.]\n",
            " [9. 8. 7. 6. 5. 4. 3.]]\n",
            "No of changes to Make :  3.0\n",
            "Shape of Matrix :  10 7\n",
            "9 6 3.0\n",
            "Seq2.char : ी ,  Seq1.char : ी\n",
            "No Change...\n",
            "\n",
            "8 5 3.0\n",
            "Seq2.char : ण ,  Seq1.char : ण\n",
            "No Change...\n",
            "\n",
            "7 4 3.0\n",
            "Seq2.char : च ,  Seq1.char : र\n",
            "Charactor : र : should be Inserted\n",
            "\n",
            "6 4 2.0\n",
            "Seq2.char : च ,  Seq1.char : च\n",
            "No Change...\n",
            "\n",
            "5 3 2.0\n",
            "Seq2.char : व ,  Seq1.char : र\n",
            "Charactor : र : should be Inserted\n",
            "\n",
            "4 3 1.0\n",
            "Seq2.char : व ,  Seq1.char : व\n",
            "No Change...\n",
            "\n",
            "3 2 1.0\n",
            "Seq2.char : श ,  Seq1.char : ्\n",
            "Charactor : ् : should be Inserted\n",
            "\n",
            "2 2 0.0\n",
            "Seq2.char : श ,  Seq1.char : श\n",
            "No Change...\n",
            "\n",
            "1 1 0.0\n",
            "Seq2.char : ई ,  Seq1.char : ई\n",
            "No Change...\n",
            "\n"
          ],
          "name": "stdout"
        }
      ]
    },
    {
      "cell_type": "code",
      "metadata": {
        "id": "7X1J-N_mH1NH",
        "colab_type": "code",
        "colab": {}
      },
      "source": [
        ""
      ],
      "execution_count": 0,
      "outputs": []
    },
    {
      "cell_type": "code",
      "metadata": {
        "id": "HzYzrAZuzlx3",
        "colab_type": "code",
        "colab": {}
      },
      "source": [
        ""
      ],
      "execution_count": 0,
      "outputs": []
    }
  ]
}